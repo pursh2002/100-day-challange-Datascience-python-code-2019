{
  "nbformat": 4,
  "nbformat_minor": 0,
  "metadata": {
    "colab": {
      "name": "ranking & slicing targets",
      "provenance": [],
      "private_outputs": true
    },
    "kernelspec": {
      "name": "python3",
      "display_name": "Python 3"
    }
  },
  "cells": [
    {
      "cell_type": "code",
      "metadata": {
        "id": "mTIv9gTwEvXk",
        "colab_type": "code",
        "colab": {}
      },
      "source": [
        "import pandas as pd\n",
        "\n",
        "raw_data = {'name': ['Willard Morris', 'Al Jennings', 'Omar Mullins', 'Spencer McDaniel'],\n",
        "                'age': [20, 19, 22, 21],\n",
        "                'favorite_color': ['blue', 'blue', 'yellow', \"green\"],\n",
        "                'grade': [88, 92, 95, 70]}\n",
        "\n",
        "df = pd.DataFrame(raw_data)\n",
        "df.head()"
      ],
      "execution_count": 0,
      "outputs": []
    },
    {
      "cell_type": "code",
      "metadata": {
        "id": "C2YYDe-aEyEb",
        "colab_type": "code",
        "colab": {}
      },
      "source": [
        "raw_data = {'name': ['ramesh','nishanat','durga','raju'],\n",
        "            'age' : [20,23,24,26],\n",
        "            'col': ['blue','blue','yellow','green'],\n",
        "            'grade':[88,92,93,70]}\n",
        "df1 = pd.DataFrame(raw_data)\n",
        "df1.head()"
      ],
      "execution_count": 0,
      "outputs": []
    },
    {
      "cell_type": "code",
      "metadata": {
        "id": "ZNrnHs89F6By",
        "colab_type": "code",
        "colab": {}
      },
      "source": [
        "# define the array of target colour \n",
        "s = ['blue','yellow']\n",
        "df = df1.loc[df1['col'].isin(s)]\n",
        "df = df1.loc[(df1['grade'] >= 90)]\n",
        "df"
      ],
      "execution_count": 0,
      "outputs": []
    },
    {
      "cell_type": "code",
      "metadata": {
        "id": "CGFre0Q9Gwse",
        "colab_type": "code",
        "colab": {}
      },
      "source": [
        "# Define the dictionary for converting to dataframe  \n",
        "movies = {'Name': ['The Godfather', 'Bird Box', 'Fight Club'], \n",
        "         'Year': ['1972', '2018', '1999'], \n",
        "         'Rating': ['9.2', '6.8', '8.8']} \n",
        "df2 = pd.DataFrame(movies)\n",
        "df2.head()"
      ],
      "execution_count": 0,
      "outputs": []
    },
    {
      "cell_type": "code",
      "metadata": {
        "id": "mYuLa6GdKaL3",
        "colab_type": "code",
        "colab": {}
      },
      "source": [
        "import pandas as pd  \n",
        "# Create a column Rating_Rank which contains \n",
        "df2['Rating_Rank'] = df2['Rating'].rank( ascending =1)"
      ],
      "execution_count": 0,
      "outputs": []
    },
    {
      "cell_type": "code",
      "metadata": {
        "id": "EIX9-5SAOKrP",
        "colab_type": "code",
        "colab": {}
      },
      "source": [
        "df = df2.set_index('Rating_Rank')\n",
        "df"
      ],
      "execution_count": 0,
      "outputs": []
    },
    {
      "cell_type": "code",
      "metadata": {
        "id": "FjiAYmV7OsHj",
        "colab_type": "code",
        "colab": {}
      },
      "source": [
        "# Sort the dataFrame based on the index \n",
        "df = df2.sort_index()\n",
        "print(df)"
      ],
      "execution_count": 0,
      "outputs": []
    },
    {
      "cell_type": "markdown",
      "metadata": {
        "id": "4ZngnkpzUFYh",
        "colab_type": "text"
      },
      "source": [
        "# Create a dictionary with student details \n",
        "student_details = {'Name':['Raj', 'Raj', 'Raj', 'Aravind', 'Aravind', 'Aravind', \n",
        "                             'John', 'John', 'John', 'Arjun', 'Arjun', 'Arjun'], \n",
        "                   'Subject':['Maths', 'Physics', 'Chemistry', 'Maths', 'Physics', \n",
        "                             'Chemistry', 'Maths', 'Physics', 'Chemistry', 'Maths', \n",
        "                                                           'Physics', 'Chemistry'], \n",
        "                   'Marks':[80, 90, 75, 60, 40, 60, 80, 55, 100, 90, 75, 70] \n",
        "               } \n",
        "  \n",
        "# Convert dictionary to a DataFrame \n",
        "df = pd.DataFrame(student_details) \n",
        "print(df) "
      ]
    },
    {
      "cell_type": "code",
      "metadata": {
        "id": "VzROeDHHO8Vk",
        "colab_type": "code",
        "colab": {}
      },
      "source": [
        "# Create a dictionary with student details \n",
        "student_details = {'Name':['Raj', 'Raj', 'Raj', 'Aravind', 'Aravind', 'Aravind', \n",
        "                             'John', 'John', 'John', 'Arjun', 'Arjun', 'Arjun'], \n",
        "                   'Subject':['Maths', 'Physics', 'Chemistry', 'Maths', 'Physics', \n",
        "                             'Chemistry', 'Maths', 'Physics', 'Chemistry', 'Maths', \n",
        "                                                           'Physics', 'Chemistry'], \n",
        "                   'Marks':[80, 90, 75, 60, 40, 60, 80, 55, 100, 90, 75, 70] \n",
        "               } \n",
        "  \n",
        "# Convert dictionary to a DataFrame \n",
        "df3 = pd.DataFrame(student_details) \n",
        "print(df3) "
      ],
      "execution_count": 0,
      "outputs": []
    },
    {
      "cell_type": "code",
      "metadata": {
        "id": "7JCj3LSmUIIz",
        "colab_type": "code",
        "colab": {}
      },
      "source": [
        "# Create a new column with Marks  \n",
        "# ranked in descending order \n",
        "df['Mark_Rank'] = df3['Marks'].rank(ascending = 0) \n",
        "df"
      ],
      "execution_count": 0,
      "outputs": []
    },
    {
      "cell_type": "code",
      "metadata": {
        "id": "xeZMPI-sUrLN",
        "colab_type": "code",
        "colab": {}
      },
      "source": [
        "df = df.set_index('Mark_Rank') \n",
        "df"
      ],
      "execution_count": 0,
      "outputs": []
    },
    {
      "cell_type": "code",
      "metadata": {
        "id": "7dricWqWU9eF",
        "colab_type": "code",
        "colab": {}
      },
      "source": [
        "df.sort_index() \n",
        "df"
      ],
      "execution_count": 0,
      "outputs": []
    },
    {
      "cell_type": "code",
      "metadata": {
        "id": "ast-7DmfVMFS",
        "colab_type": "code",
        "colab": {}
      },
      "source": [
        ""
      ],
      "execution_count": 0,
      "outputs": []
    }
  ]
}